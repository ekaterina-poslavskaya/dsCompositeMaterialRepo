{
 "cells": [
  {
   "cell_type": "markdown",
   "metadata": {},
   "source": [
    "# Итоговое задание №2. Прогнозирование конечных свойств новых материалов (композиционных материалов)\n",
    "На входе имеются данные о начальных свойствах компонентов композиционных материалов (количество связующего, наполнителя, температурный режим отверждения и т.д.). На выходе необходимо спрогнозировать ряд конечных свойств получаемых композиционных материалов. \n",
    "\n",
    "Предсказание (из семинара 22): \n",
    "* модуль упругости при растяжении\n",
    "* прочности при растяжении\n",
    "* cоотношение матрица-наполнитель\n",
    "\n",
    "Предсказание (из итогового вебинара 26.11.2022):\n",
    "* модуль упругости при растяжении\n",
    "* прочности при растяжении"
   ]
  },
  {
   "cell_type": "markdown",
   "metadata": {},
   "source": [
    "# Разделение данных на обучающую, тестовую и валидационную выборки"
   ]
  },
  {
   "cell_type": "code",
   "execution_count": 1,
   "metadata": {},
   "outputs": [],
   "source": [
    "import numpy as np\n",
    "import pandas as pd\n",
    "import sklearn as sl"
   ]
  },
  {
   "cell_type": "code",
   "execution_count": 2,
   "metadata": {},
   "outputs": [],
   "source": [
    "df0_norm = pd.read_csv('../data/interim/df0_norm.csv', sep=';',index_col=0) # Загрузка и создание датафрейма из csv файла\n",
    "df90_norm = pd.read_csv('../data/interim/df90_norm.csv', sep=';',index_col=0) # Загрузка и создание датафрейма из csv файла"
   ]
  },
  {
   "cell_type": "code",
   "execution_count": 4,
   "metadata": {},
   "outputs": [
    {
     "name": "stdout",
     "output_type": "stream",
     "text": [
      "<class 'pandas.core.frame.DataFrame'>\n",
      "Int64Index: 503 entries, 20 to 1022\n",
      "Data columns (total 12 columns):\n",
      " #   Column                                Non-Null Count  Dtype  \n",
      "---  ------                                --------------  -----  \n",
      " 0   Соотношение матрица-наполнитель       503 non-null    float64\n",
      " 1   Плотность, кг/м3                      503 non-null    float64\n",
      " 2   модуль упругости, ГПа                 503 non-null    float64\n",
      " 3   Количество отвердителя, м.%           503 non-null    float64\n",
      " 4   Содержание эпоксидных групп,%_2       503 non-null    float64\n",
      " 5   Температура вспышки, С_2              503 non-null    float64\n",
      " 6   Поверхностная плотность, г/м2         503 non-null    float64\n",
      " 7   Модуль упругости при растяжении, ГПа  503 non-null    float64\n",
      " 8   Прочность при растяжении, МПа         503 non-null    float64\n",
      " 9   Потребление смолы, г/м2               503 non-null    float64\n",
      " 10  Шаг нашивки                           503 non-null    float64\n",
      " 11  Плотность нашивки                     503 non-null    float64\n",
      "dtypes: float64(12)\n",
      "memory usage: 51.1 KB\n"
     ]
    }
   ],
   "source": [
    "#df0_norm.info()\n",
    "df90_norm.info()\n"
   ]
  },
  {
   "cell_type": "code",
   "execution_count": 9,
   "metadata": {},
   "outputs": [],
   "source": [
    "#работа дальнейшая с датафреймом для угла нашивки 0 градусов\n",
    "y_df_0elastic =  pd.DataFrame(df0_norm['Модуль упругости при растяжении, ГПа'],\n",
    "                            columns=['Модуль упругости при растяжении, ГПа'])\n",
    "y_df_0strength = pd.DataFrame(df0_norm['Прочность при растяжении, МПа'],\n",
    "                            columns=['Прочность при растяжении, МПа'])\n",
    "y_df_0matrix = pd.DataFrame(df0_norm['Соотношение матрица-наполнитель'],\n",
    "                            columns=['Соотношение матрица-наполнитель'])\n",
    "\n",
    "                            #работа дальнейшая с датафреймом для угла нашивки 90 градусов\n",
    "y_df_90elastic =  pd.DataFrame(df90_norm['Модуль упругости при растяжении, ГПа'],\n",
    "                            columns=['Модуль упругости при растяжении, ГПа'])\n",
    "y_df_90strength = pd.DataFrame(df90_norm['Прочность при растяжении, МПа'],\n",
    "                            columns=['Прочность при растяжении, МПа'])\n",
    "y_df_90matrix = pd.DataFrame(df90_norm['Соотношение матрица-наполнитель'],\n",
    "                            columns=['Соотношение матрица-наполнитель'])"
   ]
  },
  {
   "cell_type": "code",
   "execution_count": 11,
   "metadata": {},
   "outputs": [],
   "source": [
    "x_df_0elastic = df0_norm.drop(['Модуль упругости при растяжении, ГПа', 'Прочность при растяжении, МПа', 'Соотношение матрица-наполнитель'], axis=1)\n",
    "x_df_0strength = df0_norm.drop(['Модуль упругости при растяжении, ГПа', 'Прочность при растяжении, МПа', 'Соотношение матрица-наполнитель'], axis=1)\n",
    "x_df_0matrix = df0_norm.drop(['Модуль упругости при растяжении, ГПа', 'Прочность при растяжении, МПа', 'Соотношение матрица-наполнитель'], axis=1)\n",
    "\n",
    "x_df_90elastic = df90_norm.drop(['Модуль упругости при растяжении, ГПа', 'Прочность при растяжении, МПа', 'Соотношение матрица-наполнитель'], axis=1)\n",
    "x_df_90strength = df90_norm.drop(['Модуль упругости при растяжении, ГПа', 'Прочность при растяжении, МПа', 'Соотношение матрица-наполнитель'], axis=1)\n",
    "x_df_90matrix = df90_norm.drop(['Модуль упругости при растяжении, ГПа', 'Прочность при растяжении, МПа', 'Соотношение матрица-наполнитель'], axis=1)\n"
   ]
  },
  {
   "cell_type": "markdown",
   "metadata": {},
   "source": [
    "Разделение и сохранение датасетов на Train ,test, valid"
   ]
  },
  {
   "cell_type": "code",
   "execution_count": 12,
   "metadata": {},
   "outputs": [],
   "source": [
    "from sklearn.model_selection import train_test_split\n",
    "\n",
    "def Divide_2_train_test_val(x_df, y_df, nm_str):\n",
    "    X_train_val, X_test, y_train_val, y_test = train_test_split(x_df.values,\n",
    "                            y_df.values, test_size=.3, random_state=17)\n",
    "    X_train, X_val, y_train, y_val = train_test_split(X_train_val,\n",
    "                            y_train_val, test_size=.3, random_state=17)\n",
    "\n",
    "    print(f'Количество объектов в тренировочных данных {nm_str}: {X_train.shape[0]}')\n",
    "    print(f'Количество объектов в тестовых данных {nm_str}: {X_test.shape[0]}')\n",
    "    print(f'Количество объектов в валидационных данных {nm_str}: {X_val.shape[0]}') \n",
    "\n",
    "    df_save = pd.DataFrame(X_train, columns=x_df.columns)\n",
    "    df_save.to_csv('../data/interim/X_train_' + nm_str +'.csv', sep=';')\n",
    "\n",
    "    df_save = pd.DataFrame(X_test, columns=x_df.columns)\n",
    "    df_save.to_csv('../data/interim/X_test_'+nm_str+'.csv', sep=';')\n",
    "\n",
    "    df_save = pd.DataFrame(X_val, columns=x_df.columns)\n",
    "    df_save.to_csv('../data/interim/X_val_'+nm_str+'.csv', sep=';')\n",
    "\n",
    "    df_save = pd.DataFrame(y_train, columns=y_df.columns)\n",
    "    df_save.to_csv('../data/interim/y_train_'+nm_str+'.csv', sep=';')\n",
    "\n",
    "    df_save = pd.DataFrame(y_test, columns=y_df.columns)\n",
    "    df_save.to_csv('../data/interim/y_test_'+nm_str+'.csv', sep=';')\n",
    "\n",
    "    df_save = pd.DataFrame(y_val, columns=y_df.columns)\n",
    "    df_save.to_csv('../data/interim/y_val_'+nm_str+'.csv', sep=';')"
   ]
  },
  {
   "cell_type": "code",
   "execution_count": 13,
   "metadata": {},
   "outputs": [
    {
     "name": "stdout",
     "output_type": "stream",
     "text": [
      "Количество объектов в тренировочных данных 0_elastic: 254\n",
      "Количество объектов в тестовых данных 0_elastic: 156\n",
      "Количество объектов в валидационных данных 0_elastic: 110\n",
      "Количество объектов в тренировочных данных 0_strength: 254\n",
      "Количество объектов в тестовых данных 0_strength: 156\n",
      "Количество объектов в валидационных данных 0_strength: 110\n",
      "Количество объектов в тренировочных данных 0_matrix: 254\n",
      "Количество объектов в тестовых данных 0_matrix: 156\n",
      "Количество объектов в валидационных данных 0_matrix: 110\n",
      "Количество объектов в тренировочных данных 90_elastic: 246\n",
      "Количество объектов в тестовых данных 90_elastic: 151\n",
      "Количество объектов в валидационных данных 90_elastic: 106\n",
      "Количество объектов в тренировочных данных 90_strength: 246\n",
      "Количество объектов в тестовых данных 90_strength: 151\n",
      "Количество объектов в валидационных данных 90_strength: 106\n",
      "Количество объектов в тренировочных данных 90_matrix: 246\n",
      "Количество объектов в тестовых данных 90_matrix: 151\n",
      "Количество объектов в валидационных данных 90_matrix: 106\n"
     ]
    }
   ],
   "source": [
    "Divide_2_train_test_val(x_df_0elastic, y_df_0elastic, '0_elastic')\n",
    "Divide_2_train_test_val(x_df_0strength, y_df_0strength, '0_strength')\n",
    "Divide_2_train_test_val(x_df_0matrix, y_df_0matrix, '0_matrix')\n",
    "\n",
    "Divide_2_train_test_val(x_df_90elastic, y_df_90elastic, '90_elastic')\n",
    "Divide_2_train_test_val(x_df_90strength, y_df_90strength, '90_strength')\n",
    "Divide_2_train_test_val(x_df_90matrix, y_df_90matrix, '90_matrix')"
   ]
  },
  {
   "cell_type": "markdown",
   "metadata": {},
   "source": [
    "y_column_names = ['Модуль упругости при растяжении, ГПа','Прочность при растяжении, МПа','Соотношение матрица-наполнитель']\n",
    "x_column_names = ['Плотность, кг/м3', 'модуль упругости, ГПа','Количество отвердителя, м.%','Содержание эпоксидных групп,%_2','Температура вспышки, С_2','Поверхностная плотность, г/м2','Потребление смолы, г/м2','Угол нашивки, град','Шаг нашивки','Плотность нашивки']\n",
    "\n",
    "dfX = df.drop(columns=y_column_names)\n",
    "dfY = df.drop(columns=x_column_names)"
   ]
  }
 ],
 "metadata": {
  "interpreter": {
   "hash": "c87992da6b497b6ccd0fd6fd6fddc7395d1cc99335152232ef38092d9a95cec7"
  },
  "kernelspec": {
   "display_name": "Python 3.11.0 ('FinalTaskRepo-uTis2Buv')",
   "language": "python",
   "name": "python3"
  },
  "language_info": {
   "codemirror_mode": {
    "name": "ipython",
    "version": 3
   },
   "file_extension": ".py",
   "mimetype": "text/x-python",
   "name": "python",
   "nbconvert_exporter": "python",
   "pygments_lexer": "ipython3",
   "version": "3.10.0"
  },
  "orig_nbformat": 4
 },
 "nbformat": 4,
 "nbformat_minor": 2
}
