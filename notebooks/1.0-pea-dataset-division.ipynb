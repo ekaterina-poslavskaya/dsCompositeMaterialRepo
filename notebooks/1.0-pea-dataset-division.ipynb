{
 "cells": [
  {
   "cell_type": "markdown",
   "metadata": {},
   "source": [
    "# Итоговое задание №2. Прогнозирование конечных свойств новых материалов (композиционных материалов)\n",
    "На входе имеются данные о начальных свойствах компонентов композиционных материалов (количество связующего, наполнителя, температурный режим отверждения и т.д.). На выходе необходимо спрогнозировать ряд конечных свойств получаемых композиционных материалов. \n",
    "\n",
    "Предсказание (из семинара 22): \n",
    "* модуль упругости при растяжении\n",
    "* прочности при растяжении\n",
    "* cоотношение матрица-наполнитель\n",
    "\n",
    "Предсказание (из итогового вебинара 26.11.2022):\n",
    "* модуль упругости при растяжении\n",
    "* прочности при растяжении"
   ]
  },
  {
   "cell_type": "markdown",
   "metadata": {},
   "source": [
    "# Разделение данных на обучающую, тестовую и валидационную выборки"
   ]
  },
  {
   "cell_type": "code",
   "execution_count": 1,
   "metadata": {},
   "outputs": [],
   "source": [
    "import numpy as np\n",
    "import pandas as pd\n",
    "import sklearn as sl"
   ]
  },
  {
   "cell_type": "code",
   "execution_count": 2,
   "metadata": {},
   "outputs": [],
   "source": [
    "df = pd.read_csv('../data/interim/df.csv', sep=';',index_col=0) # Загрузка и создание датафрейма из csv файла\n",
    "df_encode = pd.read_csv('../data/interim/df_encode.csv', sep=';',index_col=0) # Загрузка и создание датафрейма из csv файла\n",
    "df_encode_drop = pd.read_csv('../data/interim/df_encode_drop.csv', sep=';',index_col=0) # Загрузка и создание датафрейма из csv файла\n",
    "df_encode_drop_norm = pd.read_csv('../data/interim/df_encode_drop_norm.csv', sep=';',index_col=0) # Загрузка и создание датафрейма из csv файла"
   ]
  },
  {
   "cell_type": "code",
   "execution_count": null,
   "metadata": {},
   "outputs": [],
   "source": [
    "df_encode_drop_norm.info()"
   ]
  },
  {
   "cell_type": "code",
   "execution_count": 37,
   "metadata": {},
   "outputs": [],
   "source": [
    "y_df_elastic =  pd.DataFrame(df_encode_drop_norm['Модуль упругости при растяжении, ГПа'],\n",
    "                            columns=['Модуль упругости при растяжении, ГПа'])\n",
    "y_df_strength = pd.DataFrame(df_encode_drop_norm['Прочность при растяжении, МПа'],\n",
    "                            columns=['Прочность при растяжении, МПа'])\n",
    "y_df_matrix = pd.DataFrame(df_encode_drop_norm['Соотношение матрица-наполнитель'],\n",
    "                            columns=['Соотношение матрица-наполнитель'])"
   ]
  },
  {
   "cell_type": "code",
   "execution_count": 38,
   "metadata": {},
   "outputs": [],
   "source": [
    "x_df_elastic = df_encode_drop_norm.loc[:, df_encode_drop_norm.columns != 'Модуль упругости при растяжении, ГПа']\n",
    "x_df_strength = df_encode_drop_norm.loc[:, df_encode_drop_norm.columns != 'Прочность при растяжении, МПа']\n",
    "x_df_matrix = df_encode_drop_norm.loc[:, df_encode_drop_norm.columns != 'Соотношение матрица-наполнитель']\n"
   ]
  },
  {
   "cell_type": "markdown",
   "metadata": {},
   "source": [
    "Разделение и сохранение датасетов на Train ,test, valid"
   ]
  },
  {
   "cell_type": "code",
   "execution_count": 44,
   "metadata": {},
   "outputs": [],
   "source": [
    "from sklearn.model_selection import train_test_split\n",
    "\n",
    "def Divide_2_train_test_val(x_df, y_df, nm_str):\n",
    "    X_train_val, X_test, y_train_val, y_test = train_test_split(x_df.values,\n",
    "                            y_df.values, test_size=.3, random_state=17)\n",
    "    X_train, X_val, y_train, y_val = train_test_split(X_train_val,\n",
    "                            y_train_val, test_size=.3, random_state=17)\n",
    "\n",
    "    print(f'Количество объектов в тренировочных данных {nm_str}: {X_train.shape[0]}')\n",
    "    print(f'Количество объектов в тестовых данных {nm_str}: {X_test.shape[0]}')\n",
    "    print(f'Количество объектов в валидационных данных {nm_str}: {X_val.shape[0]}') \n",
    "\n",
    "    df_save = pd.DataFrame(X_train, columns=x_df.columns)\n",
    "    df_save.to_csv('../data/interim/X_train_' + nm_str +'.csv', sep=';')\n",
    "\n",
    "    df_save = pd.DataFrame(X_test, columns=x_df.columns)\n",
    "    df_save.to_csv('../data/interim/X_test_'+nm_str+'.csv', sep=';')\n",
    "\n",
    "    df_save = pd.DataFrame(X_val, columns=x_df.columns)\n",
    "    df_save.to_csv('../data/interim/X_val_'+nm_str+'.csv', sep=';')\n",
    "\n",
    "    df_save = pd.DataFrame(y_train, columns=y_df.columns)\n",
    "    df_save.to_csv('../data/interim/y_train_'+nm_str+'.csv', sep=';')\n",
    "\n",
    "    df_save = pd.DataFrame(y_test, columns=y_df.columns)\n",
    "    df_save.to_csv('../data/interim/y_test_'+nm_str+'.csv', sep=';')\n",
    "\n",
    "    df_save = pd.DataFrame(y_val, columns=y_df.columns)\n",
    "    df_save.to_csv('../data/interim/y_val_'+nm_str+'.csv', sep=';')"
   ]
  },
  {
   "cell_type": "code",
   "execution_count": 46,
   "metadata": {},
   "outputs": [
    {
     "name": "stdout",
     "output_type": "stream",
     "text": [
      "Количество объектов в тренировочных данных elastic: 489\n",
      "Количество объектов в тестовых данных elastic: 300\n",
      "Количество объектов в валидационных данных elastic: 210\n",
      "Количество объектов в тренировочных данных strength: 489\n",
      "Количество объектов в тестовых данных strength: 300\n",
      "Количество объектов в валидационных данных strength: 210\n",
      "Количество объектов в тренировочных данных matrix: 489\n",
      "Количество объектов в тестовых данных matrix: 300\n",
      "Количество объектов в валидационных данных matrix: 210\n"
     ]
    }
   ],
   "source": [
    "Divide_2_train_test_val(x_df_elastic, y_df_elastic, 'elastic')\n",
    "Divide_2_train_test_val(x_df_strength, y_df_strength, 'strength')\n",
    "Divide_2_train_test_val(x_df_matrix, y_df_matrix, 'matrix')"
   ]
  },
  {
   "cell_type": "markdown",
   "metadata": {},
   "source": [
    "y_column_names = ['Модуль упругости при растяжении, ГПа','Прочность при растяжении, МПа','Соотношение матрица-наполнитель']\n",
    "x_column_names = ['Плотность, кг/м3', 'модуль упругости, ГПа','Количество отвердителя, м.%','Содержание эпоксидных групп,%_2','Температура вспышки, С_2','Поверхностная плотность, г/м2','Потребление смолы, г/м2','Угол нашивки, град','Шаг нашивки','Плотность нашивки']\n",
    "\n",
    "dfX = df.drop(columns=y_column_names)\n",
    "dfY = df.drop(columns=x_column_names)"
   ]
  }
 ],
 "metadata": {
  "interpreter": {
   "hash": "c87992da6b497b6ccd0fd6fd6fddc7395d1cc99335152232ef38092d9a95cec7"
  },
  "kernelspec": {
   "display_name": "Python 3.11.0 ('FinalTaskRepo-uTis2Buv')",
   "language": "python",
   "name": "python3"
  },
  "language_info": {
   "codemirror_mode": {
    "name": "ipython",
    "version": 3
   },
   "file_extension": ".py",
   "mimetype": "text/x-python",
   "name": "python",
   "nbconvert_exporter": "python",
   "pygments_lexer": "ipython3",
   "version": "3.10.0"
  },
  "orig_nbformat": 4
 },
 "nbformat": 4,
 "nbformat_minor": 2
}
