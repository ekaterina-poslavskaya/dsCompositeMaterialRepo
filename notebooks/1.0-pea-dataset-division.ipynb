{
 "cells": [
  {
   "cell_type": "markdown",
   "metadata": {},
   "source": [
    "# Итоговое задание №2. Прогнозирование конечных свойств новых материалов (композиционных материалов)\n",
    "На входе имеются данные о начальных свойствах компонентов композиционных материалов (количество связующего, наполнителя, температурный режим отверждения и т.д.). На выходе необходимо спрогнозировать ряд конечных свойств получаемых композиционных материалов. \n",
    "\n",
    "Предсказание (из семинара 22): \n",
    "* модуль упругости при растяжении\n",
    "* прочности при растяжении\n",
    "* cоотношение матрица-наполнитель\n",
    "\n",
    "Предсказание (из итогового вебинара 26.11.2022):\n",
    "* модуль упругости при растяжении\n",
    "* прочности при растяжении"
   ]
  },
  {
   "cell_type": "code",
   "execution_count": 1,
   "metadata": {},
   "outputs": [],
   "source": [
    "import numpy as np\n",
    "import pandas as pd\n",
    "import matplotlib.pyplot as plt\n",
    "import sklearn as sl"
   ]
  },
  {
   "cell_type": "code",
   "execution_count": 2,
   "metadata": {},
   "outputs": [],
   "source": [
    "df = pd.read_csv('../data/interim/df.csv', sep=';',index_col=0) # Загрузка и создание датафрейма из csv файла\n",
    "df_encode = pd.read_csv('../data/interim/df_encode.csv', sep=';',index_col=0) # Загрузка и создание датафрейма из csv файла\n",
    "df_encode_drop = pd.read_csv('../data/interim/df_encode_drop.csv', sep=';',index_col=0) # Загрузка и создание датафрейма из csv файла\n",
    "df_encode_drop_norm = pd.read_csv('../data/interim/df_encode_drop_norm.csv', sep=';',index_col=0) # Загрузка и создание датафрейма из csv файла"
   ]
  },
  {
   "cell_type": "code",
   "execution_count": null,
   "metadata": {},
   "outputs": [],
   "source": [
    "df_encode_drop_norm.info()"
   ]
  },
  {
   "cell_type": "code",
   "execution_count": 5,
   "metadata": {},
   "outputs": [],
   "source": [
    "y_df_elastic = df_encode_drop_norm['Модуль упругости при растяжении, ГПа']\n",
    "y_df_strength = df_encode_drop_norm['Прочность при растяжении, МПа']\n",
    "y_df_matrix = df_encode_drop_norm['Соотношение матрица-наполнитель']"
   ]
  },
  {
   "cell_type": "code",
   "execution_count": 6,
   "metadata": {},
   "outputs": [],
   "source": [
    "x_df_elastic = df_encode_drop_norm.loc[:, df_encode_drop_norm.columns != 'Модуль упругости при растяжении, ГПа']\n",
    "x_df_strength = df_encode_drop_norm.loc[:, df_encode_drop_norm.columns != 'Прочность при растяжении, МПа']\n",
    "x_df_strength = df_encode_drop_norm.loc[:, df_encode_drop_norm.columns != 'Соотношение матрица-наполнитель']\n"
   ]
  },
  {
   "cell_type": "markdown",
   "metadata": {},
   "source": [
    "y_column_names = ['Модуль упругости при растяжении, ГПа','Прочность при растяжении, МПа','Соотношение матрица-наполнитель']\n",
    "x_column_names = ['Плотность, кг/м3', 'модуль упругости, ГПа','Количество отвердителя, м.%','Содержание эпоксидных групп,%_2','Температура вспышки, С_2','Поверхностная плотность, г/м2','Потребление смолы, г/м2','Угол нашивки, град','Шаг нашивки','Плотность нашивки']\n",
    "\n",
    "dfX = df.drop(columns=y_column_names)\n",
    "dfY = df.drop(columns=x_column_names)"
   ]
  },
  {
   "cell_type": "markdown",
   "metadata": {},
   "source": [
    "from sklearn.model_selection import train_test_split\n",
    "\n",
    "X_train, X_valid, y_train, y_valid = train_test_split(dfX.values,\n",
    "                                                      dfY.values, test_size=.3, random_state=17)\n",
    "\n",
    "print(f'Количество объектов в тренировочных данных: {X_train.shape[0]}')\n",
    "print(f'Количество объектов в валидационных данных: {X_valid.shape[0]}')                                                      "
   ]
  }
 ],
 "metadata": {
  "interpreter": {
   "hash": "c87992da6b497b6ccd0fd6fd6fddc7395d1cc99335152232ef38092d9a95cec7"
  },
  "kernelspec": {
   "display_name": "Python 3.11.0 ('FinalTaskRepo-uTis2Buv')",
   "language": "python",
   "name": "python3"
  },
  "language_info": {
   "codemirror_mode": {
    "name": "ipython",
    "version": 3
   },
   "file_extension": ".py",
   "mimetype": "text/x-python",
   "name": "python",
   "nbconvert_exporter": "python",
   "pygments_lexer": "ipython3",
   "version": "3.10.0"
  },
  "orig_nbformat": 4
 },
 "nbformat": 4,
 "nbformat_minor": 2
}
